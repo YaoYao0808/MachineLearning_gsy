{
 "cells": [
  {
   "cell_type": "code",
   "execution_count": 1,
   "metadata": {},
   "outputs": [],
   "source": [
    "%matplotlib inline"
   ]
  },
  {
   "cell_type": "code",
   "execution_count": 2,
   "metadata": {},
   "outputs": [
    {
     "name": "stdout",
     "output_type": "stream",
     "text": [
      "lambda = e^(-10), w = [[ 0.01660577 -0.0477072   0.41365826  0.15553501  1.11561007 -1.28671007\n",
      "  -0.26342221  0.47832296]]\n",
      "lambda = e^(-9), w = [[ 0.01660576 -0.04770667  0.41365771  0.15553499  1.11560914 -1.28670963\n",
      "  -0.26342191  0.47832323]]\n",
      "lambda = e^(-8), w = [[ 0.01660572 -0.04770526  0.41365621  0.15553496  1.11560659 -1.28670843\n",
      "  -0.2634211   0.47832395]]\n",
      "lambda = e^(-7), w = [[ 0.01660563 -0.04770141  0.41365214  0.15553486  1.11559967 -1.28670516\n",
      "  -0.26341888  0.4783259 ]]\n",
      "lambda = e^(-6), w = [[ 0.01660536 -0.04769094  0.41364108  0.1555346   1.11558085 -1.28669629\n",
      "  -0.26341285  0.47833122]]\n",
      "lambda = e^(-5), w = [[ 0.01660465 -0.04766249  0.41361102  0.15553388  1.11552969 -1.28667218\n",
      "  -0.26339646  0.47834566]]\n",
      "lambda = e^(-4), w = [[ 0.0166027  -0.04758516  0.41352929  0.15553192  1.11539062 -1.28660663\n",
      "  -0.2633519   0.47838494]]\n",
      "lambda = e^(-3), w = [[ 0.01659742 -0.04737496  0.41330714  0.1555266   1.1150126  -1.28642845\n",
      "  -0.26323077  0.47849169]]\n",
      "lambda = e^(-2), w = [[ 0.01658305 -0.04680356  0.41270328  0.15551213  1.11398503 -1.2859441\n",
      "  -0.26290153  0.47878188]]\n",
      "lambda = e^(-1), w = [[ 0.01653884 -0.04549953  0.41113634  0.15545032  1.11529733 -1.28616464\n",
      "  -0.26296376  0.47804841]]\n",
      "lambda = e^(0), w = [[ 0.0164328  -0.04121551  0.4066233   0.15534385  1.10760417 -1.2825516\n",
      "  -0.2605118   0.48023131]]\n",
      "lambda = e^(1), w = [[ 0.01613973 -0.02951034  0.39416606  0.1550324   1.09055472 -1.27419467\n",
      "  -0.25476964  0.4847405 ]]\n",
      "lambda = e^(2), w = [[ 0.0153508   0.          0.36263561  0.15424449  1.03915517 -1.24943788\n",
      "  -0.23788783  0.49878292]]\n",
      "lambda = e^(3), w = [[ 0.01325127  0.          0.35059049  0.15288981  0.88507194 -1.17206133\n",
      "  -0.18460861  0.53975315]]\n",
      "lambda = e^(4), w = [[ 0.00765438  0.          0.32095796  0.14970101  0.37822709 -0.92846213\n",
      "  -0.01885195  0.68362244]]\n",
      "lambda = e^(5), w = [[ 0.          0.          0.26279139  0.14535091  0.         -0.60187314\n",
      "   0.          0.78431832]]\n",
      "lambda = e^(6), w = [[ 0.          0.          0.07663304  0.12601456  0.         -0.25525521\n",
      "   0.          0.63220029]]\n",
      "lambda = e^(7), w = [[ 0.          0.          0.          0.06282233  0.          0.          0.\n",
      "   0.44495654]]\n",
      "lambda = e^(8), w = [[ 0.          0.          0.          0.          0.          0.          0.\n",
      "   0.27074402]]\n",
      "lambda = e^(9), w = [[ 0.  0.  0.  0.  0.  0.  0.  0.]]\n",
      "lambda = e^(10), w = [[ 0.  0.  0.  0.  0.  0.  0.  0.]]\n",
      "lambda = e^(11), w = [[ 0.  0.  0.  0.  0.  0.  0.  0.]]\n",
      "lambda = e^(12), w = [[ 0.  0.  0.  0.  0.  0.  0.  0.]]\n",
      "lambda = e^(13), w = [[ 0.  0.  0.  0.  0.  0.  0.  0.]]\n",
      "lambda = e^(14), w = [[ 0.  0.  0.  0.  0.  0.  0.  0.]]\n",
      "lambda = e^(15), w = [[ 0.  0.  0.  0.  0.  0.  0.  0.]]\n",
      "lambda = e^(16), w = [[ 0.  0.  0.  0.  0.  0.  0.  0.]]\n",
      "lambda = e^(17), w = [[ 0.  0.  0.  0.  0.  0.  0.  0.]]\n",
      "lambda = e^(18), w = [[ 0.  0.  0.  0.  0.  0.  0.  0.]]\n",
      "lambda = e^(19), w = [[ 0.  0.  0.  0.  0.  0.  0.  0.]]\n"
     ]
    },
    {
     "data": {
      "image/png": "[encoded data removed]",
      "text/plain": [
       "<matplotlib.figure.Figure at 0x105015e80>"
      ]
     },
     "metadata": {},
     "output_type": "display_data"
    }
   ],
   "source": [
    "run lasso_regression.py"
   ]
  }
 ],
 "metadata": {
  "kernelspec": {
   "display_name": "Python 3",
   "language": "python",
   "name": "python3"
  },
  "language_info": {
   "codemirror_mode": {
    "name": "ipython",
    "version": 3
   },
   "file_extension": ".py",
   "mimetype": "text/x-python",
   "name": "python",
   "nbconvert_exporter": "python",
   "pygments_lexer": "ipython3",
   "version": "3.5.3"
  }
 },
 "nbformat": 4,
 "nbformat_minor": 2
}
